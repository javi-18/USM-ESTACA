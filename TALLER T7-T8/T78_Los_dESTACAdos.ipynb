{
  "cells": [
    {
      "cell_type": "markdown",
      "metadata": {
        "id": "tmYW065Z_f9o"
      },
      "source": [
        "<h1 align='center'> INF-280 Estadística Computacional 2023-1 </h1>\n",
        "\n",
        "<H3 align='center'> Tema 7 y 8 - Intervalos de Confianza y Test de Hipótesis  </H3>"
      ]
    },
    {
      "cell_type": "markdown",
      "metadata": {
        "id": "U_Kcum82_l-Y"
      },
      "source": [
        "### **Datos del grupo**\n"
      ]
    },
    {
      "cell_type": "markdown",
      "metadata": {
        "id": "7-TbhM_FAEy5"
      },
      "source": [
        "\n",
        " Nombre del grupo: Los dESTACAdos\n",
        "\n",
        "*   Maximiliano Bardi - 202173510-0 - [video](https://www.youtube.com/watch?v=V-8-WuZQ8sw&ab_channel=MaxBardi)\n",
        "*   Javiera Bobadilla - 202173584-4 - [video](https://drive.google.com/file/d/1Xfc8cDMQ7YkFtS-DtArOFDsM6-V0flSr/view?usp=sharing)\n",
        "*   Javiera Osorio Mardones - 202173656-5 - [video](https://drive.google.com/file/d/1OGXOo2J0YnNqnJ39L9CRe9ceTBJGMNmR/view?usp=sharing)\n",
        "\n",
        "*Recuerden que si su grupo se llama \"Llamado de emergencia\", entonces el nombre del archivo debe ser T78_Llamado_de_emergencia.ipynb*"
      ]
    },
    {
      "cell_type": "markdown",
      "metadata": {
        "id": "IQ1c3H_F_KG6"
      },
      "source": [
        "### **Formalidades**  "
      ]
    },
    {
      "cell_type": "markdown",
      "metadata": {
        "id": "yC57mWJWA6Ij"
      },
      "source": [
        "* Es posible utilizar apuntes, libros, papers, ejemplos y cualquier otro material que desee de internet, pero deben ser ustedes quienes desarrollen los ejercicios y comenten los resultados en el Notebook que entregará.\n",
        "* Se permite el uso de las librerías: pandas, numpy, matplotlib y seaborn. Si desea utilizar otra librería debe indicar cómo instalarla.\n",
        "* Se debe trabajar en grupos de **dos o tres personas**.\n",
        "* Además del Notebook, deberán entregar un video explicando lo que hizo, paso a paso, como en los ejemplos entregados en AULA. Este vídeo es **individual**, es decir, cada integrante debe hacerlo por separado (debiendo utilizar el mismo Jupyter Notebook). El video puede ser subido a una plataforma externa como Youtube, Google Drive, ó Dropbox. El **link a compartir** (*visible para cualquier usuario con el link*) debe ir dentro del Notebook.\n",
        "* La nota de esta actividad es grupal."
      ]
    },
    {
      "cell_type": "markdown",
      "metadata": {
        "id": "kWc7BARoDtQJ"
      },
      "source": [
        "### **Descuentos**"
      ]
    },
    {
      "cell_type": "markdown",
      "metadata": {
        "id": "v0V1nMBHDvLU"
      },
      "source": [
        "* Se descontarán 5 puntos si el nombre del archivo subido no sigue el formato indicado.\n",
        "* Se descontarán 5 puntos por cada hora de atraso en la entrega.\n",
        "* Se descontarán 3 puntos por cada gráfico que no incluya los nombres de los ejes."
      ]
    },
    {
      "cell_type": "markdown",
      "metadata": {
        "id": "Qisu3zwrA1ll"
      },
      "source": [
        "### **Entrega**"
      ]
    },
    {
      "cell_type": "markdown",
      "metadata": {
        "id": "uxFLlu2OA_5b"
      },
      "source": [
        "* **Formato**: Se debe realizar una **única** entrega por grupo (un representate del grupo) a través de  __[**Aula**](https://aula.usm.cl/)__.\n",
        "* **Archivo**:\n",
        "\n",
        "    *   El nombre del archivo a subir debe ser **T78_Nombre_Del_Equipo.ipynb**, por ejemplo, si su equipo se llama \"Llamado de emergencia\", entonces el nombre del archivo debe ser **T78_Llamado_de_emergencia.ipynb**\n",
        "    *   El Jupyter Notebook debe incluir **todos links** a los vídeos explicativos, uno por cada integrante.\n",
        "    *   Cada video debe tener una **duración máxima de 15 minutos**.\n",
        "* **Fecha límite**: Domingo 2 de Julio hasta las 23:59."
      ]
    },
    {
      "cell_type": "markdown",
      "metadata": {
        "id": "RwELncd0C2nx"
      },
      "source": [
        "<img src='https://capitalhumano.emol.com/wp-content/uploads/2019/01/salarychief.jpg' width='500' style='display:block; margin:auto;'/>"
      ]
    },
    {
      "cell_type": "markdown",
      "metadata": {
        "id": "LdKfR503C7V1"
      },
      "source": [
        "## Contexto"
      ]
    },
    {
      "cell_type": "markdown",
      "metadata": {
        "id": "dZeZNz-CKBuZ"
      },
      "source": [
        "En el campo de la ingeniería de software, es importante analizar si existen diferencias salariales significativas basadas en factores como el género, la experiencia laboral y la educación. Esto nos ayudará a comprender posibles brechas salariales y desigualdades en esta industria altamente competitiva. Al explorar estas variables, podremos evaluar la igualdad salarial y las oportunidades profesionales para hombres y mujeres en el campo de la ingeniería de software."
      ]
    },
    {
      "cell_type": "markdown",
      "metadata": {
        "id": "kwPQzDn_JX1I"
      },
      "source": [
        "## Preguntas"
      ]
    },
    {
      "cell_type": "markdown",
      "metadata": {
        "id": "7g1FXAkkJZ6H"
      },
      "source": [
        "**Tema 7: Intervalos de Confianza**\n",
        "\n",
        "**Importante** para las siguientes preguntas:\n",
        "* Indique explicitamente **los supuestos** que consideraron.Esto implica especificar si se asumió que la varianza poblacional es conocida o no. Además, es fundamental proporcionar una justificación clara y fundamentada para respaldar la elección de ese supuesto en particular.\n",
        "* Si realizan un intervalo de confianza (IC) para la diferencia de medias, es importante indicar si se consideró la suposición de homocedasticidad o heterocedasticidad. Esto implica especificar si se asumió que las varianzas de las dos poblaciones son iguales (homocedasticidad) o si se permitió que fueran diferentes (heterocedasticidad).\n",
        "\n",
        "\n",
        "1. **[20 pts]** Construya un Intervalo de Confianza para el salario (\"Salary\") promedio de las personas cuyo título profesional es \"Software Engineer\". ¿Es correcto afirmar que el **salario promedio verdadero** de los \"Software Engineer\" es alrededor de \\$113.000 ?. En caso de que sea correcto, ¿Que ocurre si se tuviese una muestra con la misma media y desviación estándar, pero con 100 veces más datos?, es decir, ¿Que ocurre con tamaño del intervalo de confianza?, ¿Se puede seguir afirmando que el salario promedio verdadero es alrededor de \\\\$113.000 ?\n",
        "\n",
        "2. **[15 pts]** Compare el salario promedio de los \"Software Engineer\" que tienen **3 o más** años de experiencia con aquellos que tienen **menos de 3 años** de experiencia. ¿Es correcto afirmar que la **diferencia media verdadera** entre sus sueldos es alrededor de \\$65.000?\n",
        "\n",
        "3. **[15 pts]** Se piensa que existe una brecha salarial de género en las personas que son \"Senior Software Engineer\". ¿Es correcto afirmar que la **diferencia media verdadera** entre los sueldos de los hombres v/s mujeres es alrededor de \\$20.000?\n",
        "\n",
        "---\n",
        "**Tema 8: Test de Hipótesis**\n",
        "\n",
        "**Importante** para las siguientes preguntas:\n",
        "* Indique explicitamente **los supuestos** que consideraron.\n",
        "* Indique explicitamente **$H_0$** y **$H_1$**.\n",
        "* Indique explicitamente el valor del **Estadístico de Contraste**.\n",
        "* Indique explicitamente la **Región Crítica**.\n",
        "* Indique explicitamente si **se rechaza $H_0$** o **no se rechaza $H_0$**.\n",
        "\n",
        "4. **[20 pts]** Se piensa que existe una brecha salarial de género en las personas que son \"Senior Software Engineer\". Diseñe un contraste que permita evaluar la hipótesis de que \"el salario promedio de las mujeres que son 'Senior Software Engineer' **es menor** que el de los hombres con el mismo título\". Diseñe su contraste de manera que la probabilidad de aceptar incorrectamente esta conjetura es menor al 5%. Además, **determine el p-valor** e indique que ocurre para valores de $\\alpha$ mayores y menores al p-valor.\n",
        "\n",
        "5. **[15 pts]** Diseñe un contraste que permita evaluar la hipótesis de que \"*la proporción de  mujeres que son 'Software Engineer' **es menor** que la proporción de hombres que son 'Software Engineer'*\". Diseñe su contraste de manera que la probabilidad de aceptar incorrectamente esta conjetura es menor al 5%. ¿Qué se puede concluir?\n",
        "\n",
        "6. **[15 pts]** Se piensa que existe una brecha de género en las personas con educación superior ('Bachelor's Degree', 'Master's Degree', 'PhD'). Ejecute un contraste donde $H_0$ corresponda a que \"*la proporción de mujeres con educación superior es **mayor o igua**l a 0.5*\". Considere $\\alpha = 0.05$. Además, **determine el p-valor** e interprete este valor, ¿Qué se puede concluir?"
      ]
    },
    {
      "cell_type": "markdown",
      "metadata": {
        "id": "0-u6cMQeKEqm"
      },
      "source": [
        "## Librerías"
      ]
    },
    {
      "cell_type": "code",
      "execution_count": null,
      "metadata": {
        "id": "yHdIzA79KIJ6"
      },
      "outputs": [],
      "source": [
        "import pandas as pd\n",
        "import numpy as np\n",
        "import seaborn as sns; sns.set()\n",
        "import matplotlib.pyplot as plt\n",
        "import warnings\n",
        "warnings.filterwarnings(\"ignore\")"
      ]
    },
    {
      "cell_type": "markdown",
      "metadata": {
        "id": "B3hucLNG3NNc"
      },
      "source": [
        "## Lectura de Datos"
      ]
    },
    {
      "cell_type": "code",
      "execution_count": null,
      "metadata": {
        "id": "QFQM-_vb3QXT"
      },
      "outputs": [],
      "source": [
        "df_salary = pd.read_csv('https://drive.google.com/uc?id=1JJBea7ezpNqzOaDYv4OTsjL8VD3J9bmn')"
      ]
    },
    {
      "cell_type": "markdown",
      "metadata": {
        "id": "aWVEO_5zvaH2"
      },
      "source": [
        "## Funciones útiles"
      ]
    },
    {
      "cell_type": "markdown",
      "metadata": {
        "id": "fy67omGttySa"
      },
      "source": [
        "### Funciones para Intervalos de Confianza"
      ]
    },
    {
      "cell_type": "markdown",
      "metadata": {
        "id": "P2sSlQH6t-q1"
      },
      "source": [
        "A continuación se les entregan una serie de funciones que les podrían servir para realizar el taller. Se recomienda que las revisen por si es que existe algún error."
      ]
    },
    {
      "cell_type": "code",
      "execution_count": null,
      "metadata": {
        "id": "SrRtccMYvcVp"
      },
      "outputs": [],
      "source": [
        "from scipy.stats import norm, t, chisquare\n",
        "from scipy.stats import f as fisher\n",
        "\n",
        "\n",
        "def IC_media(n, media_muestral, std_muestral, alpha=0.05):\n",
        "    return t.interval(1-alpha, df=n-1, loc=media_muestral, scale=std_muestral/np.sqrt(n))\n",
        "\n",
        "def IC_prop(n1,frac1,alpha=0.05):\n",
        "  std_err = np.sqrt((frac1*(1.0-frac1)/n1))\n",
        "  z_alpha = norm.ppf(1-alpha/2.0)\n",
        "  IC_inf = frac1 - z_alpha * std_err\n",
        "  IC_sup = frac1 + z_alpha * std_err\n",
        "  return (IC_inf,IC_sup)\n",
        "\n",
        "#para media1-media2\n",
        "def IC_dos_medias_hetero(muestra1, muestra2, alpha=0.05):\n",
        "  n1 = len(muestra1); n2 = len(muestra2);\n",
        "  media1 = np.mean(muestra1); media2 = np.mean(muestra2);\n",
        "  std1 = np.std(muestra1,ddof=1); std2 = np.std(muestra2,ddof=1);\n",
        "  gl_num = (std1**2/float(n1) + std2**2/float(n2))**2\n",
        "  gl_den = ((std1**2/float(n1))**2)/(n1-1.0) + ((std2**2/float(n2))**2)/(n2-1.0)\n",
        "  gl = int(np.floor(gl_num/gl_den))\n",
        "  t_alpha = t.ppf(1-alpha/2.0,df=gl)\n",
        "  std_error = np.sqrt(std1**2/n1 + std2**2/n2)\n",
        "  #print(\">>\",gl,std_error,t_alpha)\n",
        "  IC_inf = (media1-media2) - t_alpha * std_error\n",
        "  IC_sup = (media1-media2) + t_alpha * std_error\n",
        "  return IC_inf,IC_sup\n",
        "\n",
        "#para prop1-prop2\n",
        "def IC_dos_props(n1,n2,frac1,frac2, alpha=0.05):\n",
        "  std_err = np.sqrt((frac1*(1.0-frac1)/n1) + (frac2*(1.0-frac2)/n2))\n",
        "  z_alpha = norm.ppf(1-alpha/2.0)\n",
        "  IC_inf = (frac1-frac2) - z_alpha * std_err\n",
        "  IC_sup = (frac1-frac2) + z_alpha * std_err\n",
        "  return IC_inf,IC_sup"
      ]
    },
    {
      "cell_type": "markdown",
      "metadata": {
        "id": "aKCprQZSt2pW"
      },
      "source": [
        "### Funciones para Test de Hipótesis"
      ]
    },
    {
      "cell_type": "code",
      "execution_count": null,
      "metadata": {
        "id": "s5w6w2s7tvmX"
      },
      "outputs": [],
      "source": [
        "from scipy.stats import norm, t\n",
        "from scipy.stats import f as fisher\n",
        "\n",
        "\n",
        "#H0: mu1 = mu0 (mu1 desconocida, m0 valor fijo, sigma desconocida)\n",
        "def contraste_1media(n1,media1,std1,mu0,error_tipo1,alternativa='1>0'):\n",
        "  region_critica = []\n",
        "  gl = n1-1\n",
        "  std_error = np.sqrt(std1**2/n1)\n",
        "  T0 = (media1-mu0)/std_error#estadistico bajo H0\n",
        "  if (alternativa=='1>0'):\n",
        "    region_critica.append(pd.Interval(left=t.ppf(1-error_tipo1,df=gl), right=np.inf,closed='neither'))\n",
        "    p_value = 1-t.cdf(T0,df=gl)\n",
        "  elif (alternativa=='1<0'):\n",
        "    region_critica.append(pd.Interval(left=-np.inf, right=t.ppf(error_tipo1,df=gl),closed='neither'))\n",
        "    p_value = t.cdf(T0,df=gl)\n",
        "  else:#dos colas\n",
        "    region_critica.append(pd.Interval(left=-np.inf,right=t.ppf(error_tipo1/2,df=gl),closed='neither'))\n",
        "    region_critica.append(pd.Interval(left=t.ppf(1-error_tipo1/2,df=gl),right=np.inf,closed='neither'))\n",
        "    p_value = 2*min(1-t.cdf(T0,df=gl),t.cdf(T0,df=gl))\n",
        "  return T0, region_critica, p_value\n",
        "\n",
        "\n",
        "#H0: mu_x = mu_y (mu_x,mu_y ambas no conocidas, sigma diferente y desconocido)\n",
        "def contraste_2medias(n_x,n_y,media_x,media_y,std_x,std_y,error_tipo1,alternativa='x>y'):\n",
        "  region_critica = []\n",
        "  gl_num = (std_x**2/float(n_x) + std_y**2/float(n_y))**2\n",
        "  gl_den = ((std_x**2/float(n_x))**2)/(n_x-1.0) + ((std_y**2/float(n_y))**2)/(n_y-1.0)\n",
        "  gl = int(np.floor(gl_num/gl_den))\n",
        "  std_error = np.sqrt(std_x**2/n_x + std_y**2/n_y)\n",
        "  T0 = (media_x-media_y)/std_error#estadistico bajo H0\n",
        "  if (alternativa=='x>y'):\n",
        "    region_critica.append(pd.Interval(left=t.ppf(1-error_tipo1,df=gl), right=np.inf,closed='neither'))\n",
        "    p_value = 1-t.cdf(T0,df=gl)\n",
        "  elif (alternativa=='x<y'):\n",
        "    region_critica.append(pd.Interval(left=-np.inf, right=t.ppf(error_tipo1,df=gl),closed='neither'))\n",
        "    p_value = t.cdf(T0,df=gl)\n",
        "  else:#dos colas\n",
        "    region_critica.append(pd.Interval(left=-np.inf,right=t.ppf(error_tipo1/2,df=gl),closed='neither'))\n",
        "    region_critica.append(pd.Interval(left=t.ppf(1-error_tipo1/2,df=gl),right=np.inf,closed='neither'))\n",
        "    p_value = 2*min(1-t.cdf(T0,df=gl),t.cdf(T0,df=gl))\n",
        "  print(gl)\n",
        "  return T0, region_critica, p_value\n",
        "\n",
        "#H0: sigma1 = sigma2 (sigma1,sigma2 ambas no conocidas)\n",
        "def contraste_dos_varianzas(n_x,n_y,std_x,std_y,error_tipo1,alternativa='x>y'):\n",
        "  region_critica = []\n",
        "  F0 = std_x**2/std_y**2\n",
        "  if (alternativa=='x>y'):\n",
        "    region_critica.append(pd.Interval(left=fisher.ppf(1-error_tipo1,dfn=n_x-1, dfd=n_y-1), right=np.inf,closed='neither'))\n",
        "    p_value = 1-fisher.cdf(F0,dfn=n_x-1, dfd=n_y-1)\n",
        "  elif (alternativa=='x<y'):\n",
        "    region_critica.append(pd.Interval(left=-np.inf, right=fisher.ppf(error_tipo1,dfn=n_x-1, dfd=n_y-1),closed='neither'))\n",
        "    p_value = fisher.cdf(F0,dfn=n_x-1, dfd=n_y-1)\n",
        "  else:#dos colas\n",
        "    region_critica.append(pd.Interval(left=-np.inf,right=fisher.ppf(error_tipo1/2,dfn=n_x-1, dfd=n_y-1),closed='neither'))\n",
        "    region_critica.append(pd.Interval(left=fisher.ppf(1-error_tipo1/2,dfn=n_x-1, dfd=n_y-1),right=np.inf,closed='neither'))\n",
        "    p_value = 2*min(1-fisher.cdf(F0,dfn=n_x-1, dfd=n_y-1),fisher.cdf(F0,dfn=n_x-1, dfd=n_y-1))\n",
        "  return F0, region_critica, p_value\n",
        "\n",
        "#H0: p1 = p0 (p1 desconocida, p0 valor fijo)\n",
        "def contraste_1prop(n1,prop1,p0,error_tipo1,alternativa='1>0'):\n",
        "  region_critica = []\n",
        "  std_error = np.sqrt(p0*(1.0-p0))*np.sqrt(1.0/n1)\n",
        "  Z0 = (prop1-p0)/std_error\n",
        "  if (alternativa=='1>0'):\n",
        "    region_critica.append(pd.Interval(left=norm.ppf(1-error_tipo1), right=np.inf,closed='neither'))\n",
        "    p_value = 1-norm.cdf(Z0)\n",
        "  elif (alternativa=='1<0'):\n",
        "    region_critica.append(pd.Interval(left=-np.inf, right=norm.ppf(error_tipo1),closed='neither'))\n",
        "    p_value = norm.cdf(Z0)\n",
        "  else:#dos colas\n",
        "    region_critica.append(pd.Interval(left=-np.inf,right=norm.ppf(error_tipo1/2),closed='neither'))\n",
        "    region_critica.append(pd.Interval(left=norm.ppf(1-error_tipo1/2),right=np.inf,closed='neither'))\n",
        "    print(\">>\",Z0,1-norm.cdf(Z0),norm.cdf(Z0))\n",
        "    p_value = 2*min(1-norm.cdf(Z0),norm.cdf(Z0))\n",
        "  return Z0, region_critica, p_value\n",
        "\n",
        "#H0: p1 = p2 (p1,p2 no conocidas, ni funcion una de la otra)\n",
        "def contraste_2props(n_x,n_y,prop_x,prop_y,error_tipo1,alternativa='x>y'):\n",
        "  region_critica = []\n",
        "  prop_comb = (n_x*prop_x + n_y*prop_y)/(n_x+n_y)\n",
        "  std_error = np.sqrt(prop_comb*(1.0-prop_comb))*np.sqrt(1.0/n_x + 1.0/n_y)\n",
        "  Z0 = (prop_x-prop_y)/std_error\n",
        "\n",
        "  if (alternativa=='x>y'):\n",
        "    region_critica.append(pd.Interval(left=norm.ppf(1-error_tipo1), right=np.inf,closed='neither'))\n",
        "    p_value = 1-norm.cdf(Z0)\n",
        "  elif (alternativa=='x<y'):\n",
        "    region_critica.append(pd.Interval(left=-np.inf, right=norm.ppf(error_tipo1),closed='neither'))\n",
        "    p_value = norm.cdf(Z0)\n",
        "  else:#dos colas\n",
        "    region_critica.append(pd.Interval(left=-np.inf,right=norm.ppf(error_tipo1/2),closed='neither'))\n",
        "    region_critica.append(pd.Interval(left=norm.ppf(1-error_tipo1/2),right=np.inf,closed='neither'))\n",
        "    print(\">>\",Z0,1-norm.cdf(Z0),norm.cdf(Z0))\n",
        "    p_value = 2*min(1-norm.cdf(Z0),norm.cdf(Z0))\n",
        "  return Z0, region_critica, p_value"
      ]
    },
    {
      "cell_type": "markdown",
      "metadata": {
        "id": "dEDiwoi2SP5V"
      },
      "source": [
        "## Ejemplo Test de Hipótesis:\n"
      ]
    },
    {
      "cell_type": "markdown",
      "metadata": {
        "id": "-gZ2cHl4SLl0"
      },
      "source": [
        "En un test de hipótesis, la hipótesis nula ($H_0$) corresponde al *status quo*, es decir, a lo que se \"cree que es lo normal\". En cambio, la hipótesis alternativa es lo que se \"sospecha\" que ocurre.\n",
        "\n",
        "Ejemplo:\n",
        "\n",
        "Diseñe un contraste que permita evaluar la hipótesis de que \"la media de la población X es distinta a la media de la población Y\". Diseñe un contraste de manera que la probabilidad de aceptar incorrectamente esta conjetura sea menor al 5%.\n",
        "\n",
        "En este caso, se tiene que:\n",
        "* $H_0$: $μ_X = \\mu_Y$ (Corresponde a lo que se cree \"normal\")\n",
        "* $H_1$: $μ_X \\neq \\mu_Y$\n",
        "\n",
        "Además, se plantean de esta manera las hipótesis ya que \"aceptar incorrectamente la conjetura\" corresponde a un error tipo 1 (valor de $α$) y se sabe que siempre se debe acotar este tipo de error, pues es más grave que un error tipo 2."
      ]
    },
    {
      "cell_type": "markdown",
      "metadata": {
        "id": "tGu6a0XxjD6C"
      },
      "source": [
        "## Desarrollo"
      ]
    },
    {
      "cell_type": "markdown",
      "metadata": {
        "id": "Kyo8a96GyVVy"
      },
      "source": [
        "### 1)"
      ]
    },
    {
      "cell_type": "code",
      "execution_count": null,
      "metadata": {
        "id": "TY_6wCvtyo2h",
        "colab": {
          "base_uri": "https://localhost:8080/"
        },
        "outputId": "e481e296-abb8-4cd9-eb67-77613cc20b71"
      },
      "outputs": [
        {
          "output_type": "stream",
          "name": "stdout",
          "text": [
            "Intervalo de confianza:  (109097.28115071809, 117389.20533576839)\n",
            "Salario promedio verdadero:  113243.24324324324\n"
          ]
        }
      ],
      "source": [
        "import pandas as pd\n",
        "import numpy as np\n",
        "import seaborn as sns; sns.set()\n",
        "import matplotlib.pyplot as plt\n",
        "import warnings\n",
        "warnings.filterwarnings(\"ignore\")\n",
        "from scipy.stats import norm, t, chisquare\n",
        "from scipy.stats import f as fisher\n",
        "\n",
        "\n",
        "\n",
        "df_salary = pd.read_csv('https://drive.google.com/uc?id=1JJBea7ezpNqzOaDYv4OTsjL8VD3J9bmn')\n",
        "\n",
        "def IC_media(n, media_muestral, std_muestral, alpha=0.05):\n",
        "    return t.interval(1-alpha, df=n-1, loc=media_muestral, scale=std_muestral/np.sqrt(n))\n",
        "\n",
        "soft_E= df_salary[df_salary['Job Title'] == 'Software Engineer']\n",
        "salarios = soft_E['Salary']\n",
        "\n",
        "media_muestral = np.mean(salarios)\n",
        "std_muestral = np.std(salarios, ddof=1)\n",
        "\n",
        "n = len(salarios)\n",
        "\n",
        "print(\"Intervalo de confianza: \",IC_media(n, media_muestral, std_muestral, alpha=0.05  ))\n",
        "print(\"Salario promedio verdadero: \", media_muestral)"
      ]
    },
    {
      "cell_type": "markdown",
      "source": [
        "Si es que toda la población de los que trabajan como Software Engineere se encontrase en ese excel, entonces su promedio verdadero correspondería a la media muestral de los datos, la cual da un valor alrededor de 113.000 (truncado) por lo que es correcto afirmar en este caso hipotético que 113.000 corresponde a la media verdadera.\n",
        "\n",
        "Si es que se aumentan los datos, el intervalo de confianza se haría más pequeño, ya que a mayor presición menor es la cantidad de los números \"entre medio\" del dato ideal.\n",
        "\n",
        "Si es que se aumentan las datos existe la posibilidad que la media verdadera cambie (si es que dentro de estos datos hay una tendencia a un valor mayor o menor que la media estipulada) por lo que no es muy certero seguir afirmando que el promedio verdadero sea 113000.\n"
      ],
      "metadata": {
        "id": "d4s9-ErS54Lb"
      }
    },
    {
      "cell_type": "markdown",
      "metadata": {
        "id": "qThEFPBFyWa-"
      },
      "source": [
        "### 2)"
      ]
    },
    {
      "cell_type": "code",
      "execution_count": null,
      "metadata": {
        "id": "ArWunon3ypQN",
        "colab": {
          "base_uri": "https://localhost:8080/"
        },
        "outputId": "e17ef308-911c-43c6-a3bc-add4b7d03566"
      },
      "outputs": [
        {
          "output_type": "stream",
          "name": "stdout",
          "text": [
            "Intervalo de confianza entre las dos muestras:  (62261.262758844314, 71108.91030360867)\n"
          ]
        }
      ],
      "source": [
        "import pandas as pd\n",
        "import numpy as np\n",
        "import seaborn as sns; sns.set()\n",
        "import matplotlib.pyplot as plt\n",
        "import warnings\n",
        "warnings.filterwarnings(\"ignore\")\n",
        "from scipy.stats import norm, t, chisquare\n",
        "from scipy.stats import f as fisher\n",
        "\n",
        "\n",
        "\n",
        "df_salary = pd.read_csv('https://drive.google.com/uc?id=1JJBea7ezpNqzOaDYv4OTsjL8VD3J9bmn')\n",
        "\n",
        "soft_E= df_salary[df_salary['Job Title'] == 'Software Engineer']\n",
        "\n",
        "softE_mayor = soft_E[soft_E[\"Years of Experience\"] >= 3]\n",
        "softE_menor = soft_E[soft_E[\"Years of Experience\"] < 3]\n",
        "\n",
        "salario_M = softE_mayor['Salary']\n",
        "salario_m = softE_menor['Salary']\n",
        "\n",
        "\n",
        "media_muestralM = np.mean(salario_M)\n",
        "media_muestralm = np.mean(salario_m)\n",
        "\n",
        "std_muestralM = np.std(salario_M, ddof=1)\n",
        "std_muestralm = np.std(salario_m, ddof=1)\n",
        "\n",
        "n_M = len(salario_M)\n",
        "n_m = len(salario_m)\n",
        "\n",
        "def IC_dos_medias_hetero(muestra1, muestra2, alpha=0.05):\n",
        "  n1 = len(muestra1); n2 = len(muestra2);\n",
        "  media1 = np.mean(muestra1); media2 = np.mean(muestra2);\n",
        "  std1 = np.std(muestra1,ddof=1); std2 = np.std(muestra2,ddof=1);\n",
        "  gl_num = (std1**2/float(n1) + std2**2/float(n2))**2\n",
        "  gl_den = ((std1**2/float(n1))**2)/(n1-1.0) + ((std2**2/float(n2))**2)/(n2-1.0)\n",
        "  gl = int(np.floor(gl_num/gl_den))\n",
        "  t_alpha = t.ppf(1-alpha/2.0,df=gl)\n",
        "  std_error = np.sqrt(std1**2/n1 + std2**2/n2)\n",
        "  #print(\">>\",gl,std_error,t_alpha)\n",
        "  IC_inf = (media1-media2) - t_alpha * std_error\n",
        "  IC_sup = (media1-media2) + t_alpha * std_error\n",
        "  return IC_inf,IC_sup\n",
        "\n",
        "\n",
        "\n",
        "\n",
        "print(\"Intervalo de confianza entre las dos muestras: \", IC_dos_medias_hetero(salario_M, salario_m,))"
      ]
    },
    {
      "cell_type": "markdown",
      "source": [
        "Es posible decir que la media verdadera entre ambos se encuentra alrededor de 65.000 según los datos entregados."
      ],
      "metadata": {
        "id": "mGS5HhyJCWQM"
      }
    },
    {
      "cell_type": "markdown",
      "metadata": {
        "id": "Q2a3AFBmyXp9"
      },
      "source": [
        "### 3)"
      ]
    },
    {
      "cell_type": "code",
      "execution_count": null,
      "metadata": {
        "id": "sqHmy4SOypot",
        "colab": {
          "base_uri": "https://localhost:8080/"
        },
        "outputId": "fe092481-5705-4259-de58-782888ad1fd7"
      },
      "outputs": [
        {
          "output_type": "stream",
          "name": "stdout",
          "text": [
            "Intervalo de confianza entre las dos muestras:  (16549.104818884014, 30374.78658383087)\n"
          ]
        }
      ],
      "source": [
        "import pandas as pd\n",
        "import numpy as np\n",
        "import seaborn as sns; sns.set()\n",
        "import matplotlib.pyplot as plt\n",
        "import warnings\n",
        "warnings.filterwarnings(\"ignore\")\n",
        "from scipy.stats import norm, t, chisquare\n",
        "from scipy.stats import f as fisher\n",
        "\n",
        "\n",
        "\n",
        "df_salary = pd.read_csv('https://drive.google.com/uc?id=1JJBea7ezpNqzOaDYv4OTsjL8VD3J9bmn')\n",
        "\n",
        "soft_E= df_salary[df_salary['Job Title'] == 'Senior Software Engineer']\n",
        "\n",
        "softE_h = soft_E[soft_E[\"Gender\"] == \"Male\"]\n",
        "softE_m = soft_E[soft_E[\"Gender\"] == \"Female\"]\n",
        "\n",
        "salario_h = softE_h['Salary']\n",
        "salario_m = softE_m['Salary']\n",
        "\n",
        "\n",
        "def IC_dos_medias_hetero(muestra1, muestra2, alpha=0.05):\n",
        "  n1 = len(muestra1); n2 = len(muestra2);\n",
        "  media1 = np.mean(muestra1); media2 = np.mean(muestra2);\n",
        "  std1 = np.std(muestra1,ddof=1); std2 = np.std(muestra2,ddof=1);\n",
        "  gl_num = (std1**2/float(n1) + std2**2/float(n2))**2\n",
        "  gl_den = ((std1**2/float(n1))**2)/(n1-1.0) + ((std2**2/float(n2))**2)/(n2-1.0)\n",
        "  gl = int(np.floor(gl_num/gl_den))\n",
        "  t_alpha = t.ppf(1-alpha/2.0,df=gl)\n",
        "  std_error = np.sqrt(std1**2/n1 + std2**2/n2)\n",
        "  #print(\">>\",gl,std_error,t_alpha)\n",
        "  IC_inf = (media1-media2) - t_alpha * std_error\n",
        "  IC_sup = (media1-media2) + t_alpha * std_error\n",
        "  return IC_inf,IC_sup\n",
        "\n",
        "\n",
        "\n",
        "print(\"Intervalo de confianza entre las dos muestras: \", IC_dos_medias_hetero(salario_h, salario_m, alpha=0.05))\n"
      ]
    },
    {
      "cell_type": "markdown",
      "source": [
        "La media verdadera efectivamente se encuentra alrededor de 20.000"
      ],
      "metadata": {
        "id": "hB491FvOGw8c"
      }
    },
    {
      "cell_type": "markdown",
      "metadata": {
        "id": "JqktkKytyZCR"
      },
      "source": [
        "### 4)"
      ]
    },
    {
      "cell_type": "code",
      "execution_count": null,
      "metadata": {
        "id": "z2-UPj1TyqNR",
        "colab": {
          "base_uri": "https://localhost:8080/"
        },
        "outputId": "6929a0d5-d20a-4444-a124-1377c2184469"
      },
      "outputs": [
        {
          "output_type": "stream",
          "name": "stdout",
          "text": [
            "Valor t:  6.697077976210162\n",
            "La región crítica es:  [Interval(1.6533630134964312, inf, closed='neither')]\n",
            "Valor p: 1.3111289831613249e-10\n"
          ]
        }
      ],
      "source": [
        "import pandas as pd\n",
        "import numpy as np\n",
        "import seaborn as sns; sns.set()\n",
        "import matplotlib.pyplot as plt\n",
        "import warnings\n",
        "warnings.filterwarnings(\"ignore\")\n",
        "from scipy.stats import norm, t, chisquare\n",
        "from scipy.stats import f as fisher\n",
        "\n",
        "df_salary = pd.read_csv('https://drive.google.com/uc?id=1JJBea7ezpNqzOaDYv4OTsjL8VD3J9bmn')\n",
        "\n",
        "soft_E= df_salary[df_salary['Job Title'] == 'Senior Software Engineer']\n",
        "\n",
        "softE_h = soft_E[soft_E[\"Gender\"] == \"Male\"]\n",
        "softE_m = soft_E[soft_E[\"Gender\"] == \"Female\"]\n",
        "\n",
        "salario_h = softE_h['Salary']\n",
        "salario_m = softE_m['Salary']\n",
        "\n",
        "\n",
        "media_muestralh = np.mean(salario_h)\n",
        "media_muestralm = np.mean(salario_m)\n",
        "\n",
        "std_muestralh = np.std(salario_h, ddof=1)\n",
        "std_muestralm = np.std(salario_m, ddof=1)\n",
        "\n",
        "n_h = len(salario_h)\n",
        "n_m = len(salario_m)\n",
        "\n",
        "\n",
        "def contraste_2medias(n_x,n_y,media_x,media_y,std_x,std_y,error_tipo1,alternativa='x>y'):\n",
        "  region_critica = []\n",
        "  gl_num = (std_x**2/float(n_x) + std_y**2/float(n_y))**2\n",
        "  gl_den = ((std_x**2/float(n_x))**2)/(n_x-1.0) + ((std_y**2/float(n_y))**2)/(n_y-1.0)\n",
        "  gl = int(np.floor(gl_num/gl_den))\n",
        "  std_error = np.sqrt(std_x**2/n_x + std_y**2/n_y)\n",
        "  T0 = (media_x-media_y)/std_error#estadistico bajo H0\n",
        "  if (alternativa=='x>y'):\n",
        "    region_critica.append(pd.Interval(left=t.ppf(1-error_tipo1,df=gl), right=np.inf,closed='neither'))\n",
        "    p_value = 1-t.cdf(T0,df=gl)\n",
        "  elif (alternativa=='x<y'):\n",
        "    region_critica.append(pd.Interval(left=-np.inf, right=t.ppf(error_tipo1,df=gl),closed='neither'))\n",
        "    p_value = t.cdf(T0,df=gl)\n",
        "  else:#dos colas\n",
        "    region_critica.append(pd.Interval(left=-np.inf,right=t.ppf(error_tipo1/2,df=gl),closed='neither'))\n",
        "    region_critica.append(pd.Interval(left=t.ppf(1-error_tipo1/2,df=gl),right=np.inf,closed='neither'))\n",
        "    p_value = 2*min(1-t.cdf(T0,df=gl),t.cdf(T0,df=gl))\n",
        "\n",
        "  return T0, region_critica, p_value\n",
        "\n",
        "\n",
        "error_tipo1 = 0.05\n",
        "t_valor, region_critica, p = contraste_2medias(n_h, n_m, media_muestralh, media_muestralm,\n",
        "                                                     std_muestralh, std_muestralm, error_tipo1)\n",
        "\n",
        "print(\"Valor t: \", t_valor)\n",
        "print(\"La región crítica es: \", region_critica)\n",
        "print(\"Valor p:\", p)"
      ]
    },
    {
      "cell_type": "markdown",
      "source": [
        "Para un alfa mayor no podríamos saber si es que existe una brecha, pero con el alfa menor podemos definir con certeza esa brecha (con el valor p)"
      ],
      "metadata": {
        "id": "zoRU9tAGMPv0"
      }
    },
    {
      "cell_type": "markdown",
      "metadata": {
        "id": "bum7Hr5iyah5"
      },
      "source": [
        "### 5)"
      ]
    },
    {
      "cell_type": "markdown",
      "source": [],
      "metadata": {
        "id": "6xmqtFUYx2Zz"
      }
    },
    {
      "cell_type": "code",
      "execution_count": null,
      "metadata": {
        "id": "NLvD1OxZyq3n",
        "colab": {
          "base_uri": "https://localhost:8080/"
        },
        "outputId": "39723425-68b2-4ab4-8121-625ead21e46a"
      },
      "outputs": [
        {
          "output_type": "stream",
          "name": "stdout",
          "text": [
            "Z0:  5.620140999457864\n",
            "Región crítica:  [Interval(1.6448536269514722, inf, closed='neither')]\n",
            "Valor de p:  9.540083834025381e-09\n"
          ]
        }
      ],
      "source": [
        "import pandas as pd\n",
        "import numpy as np\n",
        "import seaborn as sns; sns.set()\n",
        "import matplotlib.pyplot as plt\n",
        "import warnings\n",
        "warnings.filterwarnings(\"ignore\")\n",
        "from scipy.stats import norm, t, chisquare\n",
        "from scipy.stats import f as fisher\n",
        "\n",
        "df_salary = pd.read_csv('https://drive.google.com/uc?id=1JJBea7ezpNqzOaDYv4OTsjL8VD3J9bmn')\n",
        "\n",
        "soft_E= df_salary[df_salary['Job Title'] == 'Software Engineer']\n",
        "\n",
        "softE_h = soft_E[soft_E[\"Gender\"] == \"Male\"]\n",
        "softE_m = soft_E[soft_E[\"Gender\"] == \"Female\"]\n",
        "\n",
        "mujeres =df_salary[df_salary[\"Gender\"] == \"Female\"]\n",
        "ntM = len(mujeres)\n",
        "\n",
        "hombres =df_salary[df_salary[\"Gender\"] == \"Male\"]\n",
        "ntH = len(hombres)\n",
        "\n",
        "nt = len(soft_E)\n",
        "n_h = len(softE_h)\n",
        "n_m = len(softE_m)\n",
        "\n",
        "proph = n_h/nt\n",
        "propm = n_m/nt\n",
        "\n",
        "\n",
        "def contraste_2props(n_x,n_y,prop_x,prop_y,error_tipo1,alternativa='x>y'):\n",
        "  region_critica = []\n",
        "  prop_comb = (n_x*prop_x + n_y*prop_y)/(n_x+n_y)\n",
        "  std_error = np.sqrt(prop_comb*(1.0-prop_comb))*np.sqrt(1.0/n_x + 1.0/n_y)\n",
        "  Z0 = (prop_x-prop_y)/std_error\n",
        "\n",
        "  if (alternativa=='x>y'):\n",
        "    region_critica.append(pd.Interval(left=norm.ppf(1-error_tipo1), right=np.inf,closed='neither'))\n",
        "    p_value = 1-norm.cdf(Z0)\n",
        "  elif (alternativa=='x<y'):\n",
        "    region_critica.append(pd.Interval(left=-np.inf, right=norm.ppf(error_tipo1),closed='neither'))\n",
        "    p_value = norm.cdf(Z0)\n",
        "  else:#dos colas\n",
        "    region_critica.append(pd.Interval(left=-np.inf,right=norm.ppf(error_tipo1/2),closed='neither'))\n",
        "    region_critica.append(pd.Interval(left=norm.ppf(1-error_tipo1/2),right=np.inf,closed='neither'))\n",
        "    print(\">>\",Z0,1-norm.cdf(Z0),norm.cdf(Z0))\n",
        "    p_value = 2*min(1-norm.cdf(Z0),norm.cdf(Z0))\n",
        "  return Z0, region_critica, p_value\n",
        "\n",
        "error_tipo1 = 0.05\n",
        "\n",
        "\n",
        "\n",
        "Z0, region_critica, p_value = contraste_2props(n_h, n_m, proph, propm, error_tipo1)\n",
        "\n",
        "\n",
        "print(\"Z0: \", Z0)\n",
        "print(\"Región crítica: \", region_critica)\n",
        "print(\"Valor de p: \", p_value)\n",
        "\n"
      ]
    },
    {
      "cell_type": "markdown",
      "source": [
        "En este caso tenemos que la hipotesis nula H0 es\n",
        "\n",
        "*   H0: \"la proporción de mujeres que son 'Software Engineer' es menor que la proporción de hombres que son 'Software Engineer'\"\n",
        "*   H1: la proporción de mujeres que son 'Software Engineer' es mayor o igual que la proporción de hombres que son 'Software Engineer'\"   \n",
        " Estas hipotesis se plantean de esta manera, ya que se nos pide aceptar esta conjetura de manera incorrecta, la cual corresponde a un error de tipo 1 y se sabe que se debe acotar a este tipo de error porque es un error más grave que el de tipo 2\n",
        "\n",
        " Dado el resultado que se obtuvo se tiene que el valor de p es de 9.540083834025381e-09, el cual es un valor bastante cercano a 0, lo cual indica que el error de tipo 1 generado es mayor al de tipo 2 pero no llega a ser máximo, por lo que no es el peor error\n",
        "\n",
        "\n"
      ],
      "metadata": {
        "id": "UwAB-eJtx5mA"
      }
    },
    {
      "cell_type": "markdown",
      "metadata": {
        "id": "Gcd25jUtyb--"
      },
      "source": [
        "### 6)"
      ]
    },
    {
      "cell_type": "code",
      "execution_count": null,
      "metadata": {
        "id": "hDxTtWqwyrRA",
        "colab": {
          "base_uri": "https://localhost:8080/"
        },
        "outputId": "c18ca27c-7661-4b3a-901e-22b38c8eb3d0"
      },
      "outputs": [
        {
          "output_type": "stream",
          "name": "stdout",
          "text": [
            "Z0:  9.24715041782901\n",
            "Región crítica:  [Interval(1.6448536269514722, inf, closed='neither')]\n",
            "Valor de p:  0.0\n"
          ]
        }
      ],
      "source": [
        "import pandas as pd\n",
        "import numpy as np\n",
        "import seaborn as sns; sns.set()\n",
        "import matplotlib.pyplot as plt\n",
        "import warnings\n",
        "warnings.filterwarnings(\"ignore\")\n",
        "from scipy.stats import norm, t, chisquare\n",
        "from scipy.stats import f as fisher\n",
        "\n",
        "df_salary = pd.read_csv('https://drive.google.com/uc?id=1JJBea7ezpNqzOaDYv4OTsjL8VD3J9bmn')\n",
        "\n",
        "\n",
        "mujeres_E = df_salary[(df_salary['Gender'] == 'Female') & (df_salary['Education Level'].isin([\"Bachelor's Degree\", \"Master's Degree\", \"PhD\"]))]\n",
        "mujeres =df_salary[df_salary[\"Gender\"] == \"Female\"]\n",
        "nt = len(mujeres)\n",
        "n_me = len(mujeres_E)\n",
        "\n",
        "prop_m = n_me/nt\n",
        "\n",
        "def contraste_1prop(n1,prop1,p0,error_tipo1,alternativa='1>0'):\n",
        "  region_critica = []\n",
        "  std_error = np.sqrt(p0*(1.0-p0))*np.sqrt(1.0/n1)\n",
        "  Z0 = (prop1-p0)/std_error\n",
        "  if (alternativa=='1>0'):\n",
        "    region_critica.append(pd.Interval(left=norm.ppf(1-error_tipo1), right=np.inf,closed='neither'))\n",
        "    p_value = 1-norm.cdf(Z0)\n",
        "  elif (alternativa=='1<0'):\n",
        "    region_critica.append(pd.Interval(left=-np.inf, right=norm.ppf(error_tipo1),closed='neither'))\n",
        "    p_value = norm.cdf(Z0)\n",
        "  else:#dos colas\n",
        "    region_critica.append(pd.Interval(left=-np.inf,right=norm.ppf(error_tipo1/2),closed='neither'))\n",
        "    region_critica.append(pd.Interval(left=norm.ppf(1-error_tipo1/2),right=np.inf,closed='neither'))\n",
        "    print(\">>\",Z0,1-norm.cdf(Z0),norm.cdf(Z0))\n",
        "    p_value = 2*min(1-norm.cdf(Z0),norm.cdf(Z0))\n",
        "  return Z0, region_critica, p_value\n",
        "\n",
        "p0 = 0.5\n",
        "error_tipo1 = 0.05\n",
        "Z0, region_critica, p_value = contraste_1prop(n_h, prop_m, p0, error_tipo1,)\n",
        "\n",
        "\n",
        "print(\"Z0: \", Z0)\n",
        "print(\"Región crítica: \", region_critica)\n",
        "print(\"Valor de p: \", p_value)\n",
        "\n",
        "\n"
      ]
    },
    {
      "cell_type": "markdown",
      "source": [
        "Para este caso tenemos que la hipotesis nula (H0) es\n",
        "\n",
        "*    H0: \"la proporción de mujeres con educación superior es mayor o igual a 0.5\"\n",
        "*   H1: \"la proporción de mujeres con educación superior es menor a 0.5\"   \n",
        "\n",
        "\n",
        " Dado el resultado que se obtuvo se tiene que el valor de p es cercano a 0, con un intervalo que va de 1.6 hacia el infinito y un z0=9.24715041782901, esto indica que el error de tipo 1 generado es mayor al de tipo 2\n",
        "\n",
        "\n"
      ],
      "metadata": {
        "id": "46VmqNy21bl0"
      }
    }
  ],
  "metadata": {
    "colab": {
      "provenance": []
    },
    "kernelspec": {
      "display_name": "Python 3",
      "name": "python3"
    },
    "language_info": {
      "name": "python"
    }
  },
  "nbformat": 4,
  "nbformat_minor": 0
}